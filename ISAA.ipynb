{
 "cells": [
  {
   "cell_type": "markdown",
   "id": "4d410b33",
   "metadata": {},
   "source": [
    "# Pratham Raj Sinha 21BIT0092"
   ]
  },
  {
   "cell_type": "markdown",
   "id": "d1b3ead6",
   "metadata": {},
   "source": [
    "# Email Spam Detection and Prediction"
   ]
  },
  {
   "cell_type": "markdown",
   "id": "a9d63431",
   "metadata": {},
   "source": [
    "# About the dataset:"
   ]
  },
  {
   "cell_type": "markdown",
   "id": "966bddb4",
   "metadata": {},
   "source": [
    "Email Spam Classification Dataset\n",
    "The csv file contains 5172 rows, each row for each email. There are 3002 columns. \n",
    "The first column indicates Email name. The name has been set with numbers and not recipients\n",
    "name to protect privacy. The last column has the labels for prediction :\n",
    "    1 for spam, \n",
    "    0 for not spam. \n",
    "The remaining 3000 columns are the 3000 most common words in all the emails"
   ]
  },
  {
   "cell_type": "markdown",
   "id": "0fe1b0bc",
   "metadata": {},
   "source": [
    "# Dataset URL"
   ]
  },
  {
   "cell_type": "markdown",
   "id": "b0e40496",
   "metadata": {},
   "source": [
    "https://www.kaggle.com/datasets/balaka18/email-spam-classification-dataset-csv"
   ]
  },
  {
   "cell_type": "markdown",
   "id": "875c616f",
   "metadata": {},
   "source": [
    "# Importing Libraries"
   ]
  },
  {
   "cell_type": "code",
   "execution_count": 1,
   "id": "3534ca2f",
   "metadata": {},
   "outputs": [],
   "source": [
    "# Load libraries\n",
    "import pandas as pd\n",
    "from sklearn.model_selection import train_test_split\n",
    "from pandas.plotting import scatter_matrix\n",
    "import matplotlib.pyplot as plt\n",
    "from sklearn import model_selection\n",
    "from sklearn import metrics\n",
    "from sklearn.metrics import classification_report\n",
    "from sklearn.metrics import confusion_matrix\n",
    "from sklearn.metrics import accuracy_score\n",
    "from sklearn.ensemble import RandomForestClassifier\n",
    "from sklearn.tree import DecisionTreeClassifier\n",
    "import matplotlib.pyplot as plt\n",
    "import seaborn as sns"
   ]
  },
  {
   "cell_type": "markdown",
   "id": "8ab9495b",
   "metadata": {},
   "source": [
    "\n",
    "\n",
    "\n",
    "\n",
    "\n"
   ]
  },
  {
   "cell_type": "markdown",
   "id": "07203fa9",
   "metadata": {},
   "source": [
    "# Data Collection"
   ]
  },
  {
   "cell_type": "code",
   "execution_count": 2,
   "id": "13934e9f",
   "metadata": {},
   "outputs": [
    {
     "data": {
      "text/html": [
       "<div>\n",
       "<style scoped>\n",
       "    .dataframe tbody tr th:only-of-type {\n",
       "        vertical-align: middle;\n",
       "    }\n",
       "\n",
       "    .dataframe tbody tr th {\n",
       "        vertical-align: top;\n",
       "    }\n",
       "\n",
       "    .dataframe thead th {\n",
       "        text-align: right;\n",
       "    }\n",
       "</style>\n",
       "<table border=\"1\" class=\"dataframe\">\n",
       "  <thead>\n",
       "    <tr style=\"text-align: right;\">\n",
       "      <th></th>\n",
       "      <th>the</th>\n",
       "      <th>to</th>\n",
       "      <th>ect</th>\n",
       "      <th>and</th>\n",
       "      <th>for</th>\n",
       "      <th>of</th>\n",
       "      <th>a</th>\n",
       "      <th>you</th>\n",
       "      <th>hou</th>\n",
       "      <th>in</th>\n",
       "      <th>...</th>\n",
       "      <th>will</th>\n",
       "      <th>have</th>\n",
       "      <th>with</th>\n",
       "      <th>your</th>\n",
       "      <th>at</th>\n",
       "      <th>we</th>\n",
       "      <th>s</th>\n",
       "      <th>are</th>\n",
       "      <th>it</th>\n",
       "      <th>Prediction</th>\n",
       "    </tr>\n",
       "  </thead>\n",
       "  <tbody>\n",
       "    <tr>\n",
       "      <th>0</th>\n",
       "      <td>0</td>\n",
       "      <td>0</td>\n",
       "      <td>1</td>\n",
       "      <td>0</td>\n",
       "      <td>0</td>\n",
       "      <td>0</td>\n",
       "      <td>2</td>\n",
       "      <td>0</td>\n",
       "      <td>0</td>\n",
       "      <td>0</td>\n",
       "      <td>...</td>\n",
       "      <td>0</td>\n",
       "      <td>0</td>\n",
       "      <td>0</td>\n",
       "      <td>0</td>\n",
       "      <td>0</td>\n",
       "      <td>0</td>\n",
       "      <td>3</td>\n",
       "      <td>0</td>\n",
       "      <td>0</td>\n",
       "      <td>0</td>\n",
       "    </tr>\n",
       "    <tr>\n",
       "      <th>1</th>\n",
       "      <td>8</td>\n",
       "      <td>13</td>\n",
       "      <td>24</td>\n",
       "      <td>6</td>\n",
       "      <td>6</td>\n",
       "      <td>2</td>\n",
       "      <td>102</td>\n",
       "      <td>1</td>\n",
       "      <td>27</td>\n",
       "      <td>18</td>\n",
       "      <td>...</td>\n",
       "      <td>0</td>\n",
       "      <td>0</td>\n",
       "      <td>2</td>\n",
       "      <td>0</td>\n",
       "      <td>12</td>\n",
       "      <td>9</td>\n",
       "      <td>95</td>\n",
       "      <td>4</td>\n",
       "      <td>3</td>\n",
       "      <td>0</td>\n",
       "    </tr>\n",
       "    <tr>\n",
       "      <th>2</th>\n",
       "      <td>0</td>\n",
       "      <td>0</td>\n",
       "      <td>1</td>\n",
       "      <td>0</td>\n",
       "      <td>0</td>\n",
       "      <td>0</td>\n",
       "      <td>8</td>\n",
       "      <td>0</td>\n",
       "      <td>0</td>\n",
       "      <td>4</td>\n",
       "      <td>...</td>\n",
       "      <td>0</td>\n",
       "      <td>0</td>\n",
       "      <td>0</td>\n",
       "      <td>0</td>\n",
       "      <td>2</td>\n",
       "      <td>0</td>\n",
       "      <td>2</td>\n",
       "      <td>0</td>\n",
       "      <td>0</td>\n",
       "      <td>0</td>\n",
       "    </tr>\n",
       "    <tr>\n",
       "      <th>3</th>\n",
       "      <td>0</td>\n",
       "      <td>5</td>\n",
       "      <td>22</td>\n",
       "      <td>0</td>\n",
       "      <td>5</td>\n",
       "      <td>1</td>\n",
       "      <td>51</td>\n",
       "      <td>2</td>\n",
       "      <td>10</td>\n",
       "      <td>1</td>\n",
       "      <td>...</td>\n",
       "      <td>0</td>\n",
       "      <td>1</td>\n",
       "      <td>1</td>\n",
       "      <td>0</td>\n",
       "      <td>2</td>\n",
       "      <td>1</td>\n",
       "      <td>36</td>\n",
       "      <td>3</td>\n",
       "      <td>1</td>\n",
       "      <td>0</td>\n",
       "    </tr>\n",
       "    <tr>\n",
       "      <th>4</th>\n",
       "      <td>7</td>\n",
       "      <td>6</td>\n",
       "      <td>17</td>\n",
       "      <td>1</td>\n",
       "      <td>5</td>\n",
       "      <td>2</td>\n",
       "      <td>57</td>\n",
       "      <td>0</td>\n",
       "      <td>9</td>\n",
       "      <td>3</td>\n",
       "      <td>...</td>\n",
       "      <td>0</td>\n",
       "      <td>2</td>\n",
       "      <td>0</td>\n",
       "      <td>0</td>\n",
       "      <td>7</td>\n",
       "      <td>0</td>\n",
       "      <td>19</td>\n",
       "      <td>2</td>\n",
       "      <td>4</td>\n",
       "      <td>0</td>\n",
       "    </tr>\n",
       "  </tbody>\n",
       "</table>\n",
       "<p>5 rows × 27 columns</p>\n",
       "</div>"
      ],
      "text/plain": [
       "   the  to  ect  and  for  of    a  you  hou  in  ...  will  have  with  your  \\\n",
       "0    0   0    1    0    0   0    2    0    0   0  ...     0     0     0     0   \n",
       "1    8  13   24    6    6   2  102    1   27  18  ...     0     0     2     0   \n",
       "2    0   0    1    0    0   0    8    0    0   4  ...     0     0     0     0   \n",
       "3    0   5   22    0    5   1   51    2   10   1  ...     0     1     1     0   \n",
       "4    7   6   17    1    5   2   57    0    9   3  ...     0     2     0     0   \n",
       "\n",
       "   at  we   s  are  it  Prediction  \n",
       "0   0   0   3    0   0           0  \n",
       "1  12   9  95    4   3           0  \n",
       "2   2   0   2    0   0           0  \n",
       "3   2   1  36    3   1           0  \n",
       "4   7   0  19    2   4           0  \n",
       "\n",
       "[5 rows x 27 columns]"
      ]
     },
     "execution_count": 2,
     "metadata": {},
     "output_type": "execute_result"
    }
   ],
   "source": [
    "spam = pd.read_csv('/Users/niladrisinha/Infosec da/emails.csv')\n",
    "spam.describe()\n",
    "spam.head()"
   ]
  },
  {
   "cell_type": "markdown",
   "id": "149a512a",
   "metadata": {},
   "source": [
    "# Data Description"
   ]
  },
  {
   "cell_type": "code",
   "execution_count": 3,
   "id": "b0470102",
   "metadata": {},
   "outputs": [
    {
     "data": {
      "text/plain": [
       "(5172, 27)"
      ]
     },
     "execution_count": 3,
     "metadata": {},
     "output_type": "execute_result"
    }
   ],
   "source": [
    "spam.shape"
   ]
  },
  {
   "cell_type": "code",
   "execution_count": 4,
   "id": "183a340b",
   "metadata": {},
   "outputs": [],
   "source": [
    "array = spam.values\n",
    "X = array[:,0:26]\n",
    "y = array[:,26]\n",
    "\n",
    "feature_cols = [\"the\",\"to\",\"ect\",\"and\",\"for\",\"of\",\"a\",\"you\",\"hou\",\"in\",\"on\",\"is\",\"this\",\"enron\",\"i\",\"be\",\"that\",\"will\",\"have\",\"with\",\"your\",\"at\",\"we\",\"s\",\"are\",\"it\"]\n",
    "\n",
    "\n",
    "# Split dataset into training set and test set\n",
    "X_train, X_test, y_train, y_test = train_test_split(X, y, test_size=0.3) # 70% training and 30% test\n"
   ]
  },
  {
   "cell_type": "code",
   "execution_count": 5,
   "id": "c1294ac6",
   "metadata": {},
   "outputs": [],
   "source": [
    "from sklearn.ensemble import GradientBoostingClassifier\n",
    "from sklearn.metrics import recall_score"
   ]
  },
  {
   "cell_type": "markdown",
   "id": "8adb6285",
   "metadata": {},
   "source": [
    "# 1. Gradient Boost"
   ]
  },
  {
   "cell_type": "code",
   "execution_count": 6,
   "id": "68f898b3",
   "metadata": {},
   "outputs": [
    {
     "data": {
      "text/plain": [
       "GradientBoostingClassifier()"
      ]
     },
     "execution_count": 6,
     "metadata": {},
     "output_type": "execute_result"
    }
   ],
   "source": [
    "model = GradientBoostingClassifier()\n",
    "model.fit(X_train,y_train)"
   ]
  },
  {
   "cell_type": "code",
   "execution_count": 7,
   "id": "eebe3525",
   "metadata": {},
   "outputs": [
    {
     "name": "stdout",
     "output_type": "stream",
     "text": [
      "Accuracy for gradient boost: 0.8833762886597938\n"
     ]
    }
   ],
   "source": [
    "y_pred=model.predict(X_test)\n",
    "# Model Accuracy, how often is the classifier correct?\n",
    "print(\"Accuracy for gradient boost:\",metrics.accuracy_score(y_test, y_pred))"
   ]
  },
  {
   "cell_type": "code",
   "execution_count": 8,
   "id": "0fab9332",
   "metadata": {},
   "outputs": [
    {
     "data": {
      "image/png": "[encoded data removed]",
      "text/plain": [
       "<Figure size 640x480 with 1 Axes>"
      ]
     },
     "metadata": {},
     "output_type": "display_data"
    }
   ],
   "source": [
    "feature_imp = pd.Series(model.feature_importances_,index=feature_cols).sort_values(ascending=False)\n",
    "feature_imp\n",
    "%matplotlib inline\n",
    "# Creating a bar plot\n",
    "plt.figure()\n",
    "sns.barplot(x=feature_imp, y=feature_imp.index)\n",
    "# Add labels to your graph\n",
    "plt.xlabel('Word Importance Score')\n",
    "plt.ylabel('Words')\n",
    "plt.title(\"Most common words used in spam emails\")\n",
    "plt.show()"
   ]
  },
  {
   "cell_type": "code",
   "execution_count": 9,
   "id": "09c911cc",
   "metadata": {},
   "outputs": [
    {
     "data": {
      "image/png": "[encoded data removed]",
      "text/plain": [
       "<Figure size 800x600 with 2 Axes>"
      ]
     },
     "metadata": {},
     "output_type": "display_data"
    },
    {
     "name": "stdout",
     "output_type": "stream",
     "text": [
      "              precision    recall  f1-score   support\n",
      "\n",
      "           0       0.90      0.94      0.92      1115\n",
      "           1       0.82      0.75      0.78       437\n",
      "\n",
      "    accuracy                           0.88      1552\n",
      "   macro avg       0.86      0.84      0.85      1552\n",
      "weighted avg       0.88      0.88      0.88      1552\n",
      "\n"
     ]
    }
   ],
   "source": [
    "from sklearn.metrics import confusion_matrix\n",
    "import seaborn as sns\n",
    "\n",
    "# Generate confusion matrix\n",
    "cm = confusion_matrix(y_test, y_pred)\n",
    "\n",
    "# Plot confusion matrix as a heatmap\n",
    "plt.figure(figsize=(8, 6))\n",
    "sns.heatmap(cm, annot=True, fmt='d', cmap='Greens')\n",
    "plt.xlabel('Predicted')\n",
    "plt.ylabel('Actual')\n",
    "plt.show()\n",
    "\n",
    "report = classification_report(y_test, y_pred)\n",
    "\n",
    "# Classification report\n",
    "print(report)"
   ]
  },
  {
   "cell_type": "code",
   "execution_count": 10,
   "id": "a558b712",
   "metadata": {},
   "outputs": [
    {
     "name": "stdout",
     "output_type": "stream",
     "text": [
      "True Negative: 1045\n",
      "False Positive: 70\n",
      "False Negative: 111\n",
      "True Positive: 326\n"
     ]
    }
   ],
   "source": [
    "TN = cm[0][0]\n",
    "FP = cm[0][1]\n",
    "FN = cm[1][0]\n",
    "TP = cm[1][1]\n",
    "\n",
    "print(\"True Negative:\", TN)\n",
    "print(\"False Positive:\", FP)\n",
    "print(\"False Negative:\", FN)\n",
    "print(\"True Positive:\", TP)"
   ]
  },
  {
   "cell_type": "code",
   "execution_count": 11,
   "id": "53caedc5",
   "metadata": {},
   "outputs": [
    {
     "name": "stdout",
     "output_type": "stream",
     "text": [
      "1. Accuracy=  0.8833762886597938\n",
      "\n",
      "2. Error rate=  0.11662371134020619\n",
      "\n",
      "3. Sensitivity/TPR=  0.7459954233409611\n",
      "\n",
      "4. Specificity/TNR=  0.9372197309417041\n",
      "\n",
      "5. FPR=  0.06278026905829592\n",
      "\n",
      "6. Miss rate/FNR=  0.25400457665903886\n",
      "\n",
      "7. Positive Prediction Value=  0.8232323232323232\n",
      "\n",
      "8. Negative Predictive Value=  0.8232323232323232\n",
      "\n",
      "9. Positive Likelihood=  11.882641386073889\n",
      "\n",
      "10. Negative Likelihood=  0.2710192372964864\n",
      "\n"
     ]
    }
   ],
   "source": [
    "Total = TN+TP+FP+FN\n",
    "Accuracy = (TP+TN)/(Total)\n",
    "print(\"1. Accuracy= \",Accuracy)\n",
    "print(\"\")\n",
    "ER = (FP+FN)/(Total)\n",
    "print(\"2. Error rate= \",ER)\n",
    "print(\"\")\n",
    "TPR = TP/(TP+FN)\n",
    "print(\"3. Sensitivity/TPR= \",TPR)\n",
    "print(\"\")\n",
    "TNR = TN/(FP+TN)\n",
    "print(\"4. Specificity/TNR= \",TNR)\n",
    "print(\"\")\n",
    "FPR = 1 - TNR\n",
    "print(\"5. FPR= \",FPR)\n",
    "print(\"\")\n",
    "FNR = 1 - TPR\n",
    "print(\"6. Miss rate/FNR= \",FNR)\n",
    "print(\"\")\n",
    "PPV = TP/(FP+TP)\n",
    "print(\"7. Positive Prediction Value= \",PPV)\n",
    "print(\"\")\n",
    "NPV = TN/(FN+TN)\n",
    "print(\"8. Negative Predictive Value= \",PPV)\n",
    "print(\"\")\n",
    "PL = TPR/(1-TNR)\n",
    "print(\"9. Positive Likelihood= \",PL)\n",
    "print(\"\")\n",
    "NL = FNR/TNR\n",
    "print(\"10. Negative Likelihood= \",NL)\n",
    "print(\"\")"
   ]
  },
  {
   "cell_type": "markdown",
   "id": "abb8c3c4",
   "metadata": {},
   "source": [
    "# 2. Support Vector Machine"
   ]
  },
  {
   "cell_type": "code",
   "execution_count": 12,
   "id": "30066e0b",
   "metadata": {},
   "outputs": [
    {
     "data": {
      "text/plain": [
       "SVC(kernel='linear', random_state=0)"
      ]
     },
     "execution_count": 12,
     "metadata": {},
     "output_type": "execute_result"
    }
   ],
   "source": [
    "from sklearn.svm import SVC\n",
    "svc = SVC(kernel=\"linear\",random_state=0)\n",
    "svc.fit(X_train,y_train)"
   ]
  },
  {
   "cell_type": "code",
   "execution_count": 13,
   "id": "72ed0df3",
   "metadata": {},
   "outputs": [
    {
     "name": "stdout",
     "output_type": "stream",
     "text": [
      "Accuracy for SVM: 0.8833762886597938\n"
     ]
    }
   ],
   "source": [
    "svc_y_pred = svc.predict(X_test)\n",
    "from sklearn.metrics import accuracy_score\n",
    "print(\"Accuracy for SVM:\",accuracy_score(y_test, y_pred))"
   ]
  },
  {
   "cell_type": "code",
   "execution_count": 14,
   "id": "66cc7a27",
   "metadata": {},
   "outputs": [
    {
     "data": {
      "image/png": "[encoded data removed]",
      "text/plain": [
       "<Figure size 800x600 with 2 Axes>"
      ]
     },
     "metadata": {},
     "output_type": "display_data"
    },
    {
     "name": "stdout",
     "output_type": "stream",
     "text": [
      "              precision    recall  f1-score   support\n",
      "\n",
      "           0       0.90      0.94      0.92      1115\n",
      "           1       0.82      0.75      0.78       437\n",
      "\n",
      "    accuracy                           0.88      1552\n",
      "   macro avg       0.86      0.84      0.85      1552\n",
      "weighted avg       0.88      0.88      0.88      1552\n",
      "\n"
     ]
    }
   ],
   "source": [
    "from sklearn.metrics import confusion_matrix\n",
    "import seaborn as sns\n",
    "\n",
    "# Generate confusion matrix\n",
    "cm = confusion_matrix(y_test, y_pred)\n",
    "\n",
    "# Plot confusion matrix as a heatmap\n",
    "plt.figure(figsize=(8, 6))\n",
    "sns.heatmap(cm, annot=True, fmt='d', cmap='Reds')\n",
    "plt.xlabel('Predicted')\n",
    "plt.ylabel('Actual')\n",
    "plt.show()\n",
    "\n",
    "report = classification_report(y_test, y_pred)\n",
    "\n",
    "# Classification report\n",
    "print(report)"
   ]
  },
  {
   "cell_type": "code",
   "execution_count": 15,
   "id": "66441429",
   "metadata": {},
   "outputs": [
    {
     "name": "stdout",
     "output_type": "stream",
     "text": [
      "True Negative: 1045\n",
      "False Positive: 70\n",
      "False Negative: 111\n",
      "True Positive: 326\n"
     ]
    }
   ],
   "source": [
    "TN = cm[0][0]\n",
    "FP = cm[0][1]\n",
    "FN = cm[1][0]\n",
    "TP = cm[1][1]\n",
    "\n",
    "print(\"True Negative:\", TN)\n",
    "print(\"False Positive:\", FP)\n",
    "print(\"False Negative:\", FN)\n",
    "print(\"True Positive:\", TP)"
   ]
  },
  {
   "cell_type": "code",
   "execution_count": 16,
   "id": "abc62898",
   "metadata": {},
   "outputs": [
    {
     "name": "stdout",
     "output_type": "stream",
     "text": [
      "1. Accuracy=  0.8833762886597938\n",
      "\n",
      "2. Error rate=  0.11662371134020619\n",
      "\n",
      "3. Sensitivity/TPR=  0.7459954233409611\n",
      "\n",
      "4. Specificity/TNR=  0.9372197309417041\n",
      "\n",
      "5. FPR=  0.06278026905829592\n",
      "\n",
      "6. Miss rate/FNR=  0.25400457665903886\n",
      "\n",
      "7. Positive Prediction Value=  0.8232323232323232\n",
      "\n",
      "8. Negative Predictive Value=  0.8232323232323232\n",
      "\n",
      "9. Positive Likelihood=  11.882641386073889\n",
      "\n",
      "10. Negative Likelihood=  0.2710192372964864\n",
      "\n"
     ]
    }
   ],
   "source": [
    "Total = TN+TP+FP+FN\n",
    "Accuracy = (TP+TN)/(Total)\n",
    "print(\"1. Accuracy= \",Accuracy)\n",
    "print(\"\")\n",
    "ER = (FP+FN)/(Total)\n",
    "print(\"2. Error rate= \",ER)\n",
    "print(\"\")\n",
    "TPR = TP/(TP+FN)\n",
    "print(\"3. Sensitivity/TPR= \",TPR)\n",
    "print(\"\")\n",
    "TNR = TN/(FP+TN)\n",
    "print(\"4. Specificity/TNR= \",TNR)\n",
    "print(\"\")\n",
    "FPR = 1 - TNR\n",
    "print(\"5. FPR= \",FPR)\n",
    "print(\"\")\n",
    "FNR = 1 - TPR\n",
    "print(\"6. Miss rate/FNR= \",FNR)\n",
    "print(\"\")\n",
    "PPV = TP/(FP+TP)\n",
    "print(\"7. Positive Prediction Value= \",PPV)\n",
    "print(\"\")\n",
    "NPV = TN/(FN+TN)\n",
    "print(\"8. Negative Predictive Value= \",PPV)\n",
    "print(\"\")\n",
    "PL = TPR/(1-TNR)\n",
    "print(\"9. Positive Likelihood= \",PL)\n",
    "print(\"\")\n",
    "NL = FNR/TNR\n",
    "print(\"10. Negative Likelihood= \",NL)\n",
    "print(\"\")"
   ]
  },
  {
   "cell_type": "markdown",
   "id": "3da4c603",
   "metadata": {},
   "source": [
    "# 3. Logistic Regression"
   ]
  },
  {
   "cell_type": "code",
   "execution_count": 17,
   "id": "e4227a8b",
   "metadata": {},
   "outputs": [],
   "source": [
    "from sklearn.linear_model import LogisticRegression\n",
    "from sklearn import metrics"
   ]
  },
  {
   "cell_type": "code",
   "execution_count": 18,
   "id": "620f316c",
   "metadata": {},
   "outputs": [],
   "source": [
    "model = LogisticRegression()"
   ]
  },
  {
   "cell_type": "code",
   "execution_count": 19,
   "id": "42bdb8d9",
   "metadata": {},
   "outputs": [
    {
     "name": "stderr",
     "output_type": "stream",
     "text": [
      "/Users/niladrisinha/opt/anaconda3/lib/python3.9/site-packages/sklearn/linear_model/_logistic.py:814: ConvergenceWarning: lbfgs failed to converge (status=1):\n",
      "STOP: TOTAL NO. of ITERATIONS REACHED LIMIT.\n",
      "\n",
      "Increase the number of iterations (max_iter) or scale the data as shown in:\n",
      "    https://scikit-learn.org/stable/modules/preprocessing.html\n",
      "Please also refer to the documentation for alternative solver options:\n",
      "    https://scikit-learn.org/stable/modules/linear_model.html#logistic-regression\n",
      "  n_iter_i = _check_optimize_result(\n"
     ]
    },
    {
     "data": {
      "text/plain": [
       "LogisticRegression()"
      ]
     },
     "execution_count": 19,
     "metadata": {},
     "output_type": "execute_result"
    }
   ],
   "source": [
    "model.fit(X_train,y_train)"
   ]
  },
  {
   "cell_type": "code",
   "execution_count": 20,
   "id": "a331d4a3",
   "metadata": {},
   "outputs": [],
   "source": [
    "y_pred = model.predict(X_test)"
   ]
  },
  {
   "cell_type": "code",
   "execution_count": 21,
   "id": "c3483cca",
   "metadata": {},
   "outputs": [
    {
     "name": "stdout",
     "output_type": "stream",
     "text": [
      "Accuracy for LR: 0.8563144329896907\n"
     ]
    }
   ],
   "source": [
    "print(\"Accuracy for LR:\",accuracy_score(y_test, y_pred))"
   ]
  },
  {
   "cell_type": "code",
   "execution_count": 22,
   "id": "4ec7a134",
   "metadata": {},
   "outputs": [
    {
     "data": {
      "image/png": "[encoded data removed]",
      "text/plain": [
       "<Figure size 800x600 with 2 Axes>"
      ]
     },
     "metadata": {},
     "output_type": "display_data"
    },
    {
     "name": "stdout",
     "output_type": "stream",
     "text": [
      "              precision    recall  f1-score   support\n",
      "\n",
      "           0       0.87      0.95      0.90      1115\n",
      "           1       0.82      0.62      0.71       437\n",
      "\n",
      "    accuracy                           0.86      1552\n",
      "   macro avg       0.84      0.79      0.81      1552\n",
      "weighted avg       0.85      0.86      0.85      1552\n",
      "\n"
     ]
    }
   ],
   "source": [
    "from sklearn.metrics import confusion_matrix\n",
    "import seaborn as sns\n",
    "\n",
    "# Generate confusion matrix\n",
    "lr_cm = confusion_matrix(y_test, y_pred)\n",
    "\n",
    "# Plot confusion matrix as a heatmap\n",
    "plt.figure(figsize=(8, 6))\n",
    "sns.heatmap(cm, annot=True, fmt='d', cmap='Blues')\n",
    "plt.xlabel('Predicted')\n",
    "plt.ylabel('Actual')\n",
    "plt.show()\n",
    "\n",
    "report = classification_report(y_test, y_pred)\n",
    "\n",
    "# Classification report\n",
    "print(report)"
   ]
  },
  {
   "cell_type": "code",
   "execution_count": 23,
   "id": "3f6623a5",
   "metadata": {},
   "outputs": [
    {
     "name": "stdout",
     "output_type": "stream",
     "text": [
      "True Negative: 1056\n",
      "False Positive: 59\n",
      "False Negative: 164\n",
      "True Positive: 273\n"
     ]
    }
   ],
   "source": [
    "TN = lr_cm[0][0]\n",
    "FP = lr_cm[0][1]\n",
    "FN = lr_cm[1][0]\n",
    "TP = lr_cm[1][1]\n",
    "\n",
    "print(\"True Negative:\", TN)\n",
    "print(\"False Positive:\", FP)\n",
    "print(\"False Negative:\", FN)\n",
    "print(\"True Positive:\", TP)"
   ]
  },
  {
   "cell_type": "code",
   "execution_count": 24,
   "id": "bca63100",
   "metadata": {},
   "outputs": [
    {
     "name": "stdout",
     "output_type": "stream",
     "text": [
      "1. Accuracy=  0.8563144329896907\n",
      "\n",
      "2. Error rate=  0.14368556701030927\n",
      "\n",
      "3. Sensitivity/TPR=  0.6247139588100686\n",
      "\n",
      "4. Specificity/TNR=  0.947085201793722\n",
      "\n",
      "5. FPR=  0.05291479820627798\n",
      "\n",
      "6. Miss rate/FNR=  0.37528604118993136\n",
      "\n",
      "7. Positive Prediction Value=  0.822289156626506\n",
      "\n",
      "8. Negative Predictive Value=  0.822289156626506\n",
      "\n",
      "9. Positive Likelihood=  11.806034984291985\n",
      "\n",
      "10. Negative Likelihood=  0.3962537272033839\n",
      "\n"
     ]
    }
   ],
   "source": [
    "Total = TN+TP+FP+FN\n",
    "Accuracy = (TP+TN)/(Total)\n",
    "print(\"1. Accuracy= \",Accuracy)\n",
    "print(\"\")\n",
    "ER = (FP+FN)/(Total)\n",
    "print(\"2. Error rate= \",ER)\n",
    "print(\"\")\n",
    "TPR = TP/(TP+FN)\n",
    "print(\"3. Sensitivity/TPR= \",TPR)\n",
    "print(\"\")\n",
    "TNR = TN/(FP+TN)\n",
    "print(\"4. Specificity/TNR= \",TNR)\n",
    "print(\"\")\n",
    "FPR = 1 - TNR\n",
    "print(\"5. FPR= \",FPR)\n",
    "print(\"\")\n",
    "FNR = 1 - TPR\n",
    "print(\"6. Miss rate/FNR= \",FNR)\n",
    "print(\"\")\n",
    "PPV = TP/(FP+TP)\n",
    "print(\"7. Positive Prediction Value= \",PPV)\n",
    "print(\"\")\n",
    "NPV = TN/(FN+TN)\n",
    "print(\"8. Negative Predictive Value= \",PPV)\n",
    "print(\"\")\n",
    "PL = TPR/(1-TNR)\n",
    "print(\"9. Positive Likelihood= \",PL)\n",
    "print(\"\")\n",
    "NL = FNR/TNR\n",
    "print(\"10. Negative Likelihood= \",NL)\n",
    "print(\"\")"
   ]
  },
  {
   "cell_type": "markdown",
   "id": "6dfe380c",
   "metadata": {},
   "source": [
    "# 4. Linear Discriminant Analysis"
   ]
  },
  {
   "cell_type": "code",
   "execution_count": 25,
   "id": "1fc7bdb2",
   "metadata": {},
   "outputs": [
    {
     "data": {
      "text/plain": [
       "LinearDiscriminantAnalysis(n_components=1)"
      ]
     },
     "execution_count": 25,
     "metadata": {},
     "output_type": "execute_result"
    }
   ],
   "source": [
    "from sklearn.discriminant_analysis import LinearDiscriminantAnalysis\n",
    "from sklearn import metrics\n",
    "lda = LinearDiscriminantAnalysis(n_components=1)\n",
    "lda.fit(X_train,y_train)"
   ]
  },
  {
   "cell_type": "code",
   "execution_count": 26,
   "id": "a9e8d9e2",
   "metadata": {},
   "outputs": [],
   "source": [
    "lda_y_pred = lda.predict(X_test)"
   ]
  },
  {
   "cell_type": "code",
   "execution_count": 27,
   "id": "51085556",
   "metadata": {},
   "outputs": [
    {
     "data": {
      "image/png": "[encoded data removed]",
      "text/plain": [
       "<Figure size 800x600 with 2 Axes>"
      ]
     },
     "metadata": {},
     "output_type": "display_data"
    },
    {
     "name": "stdout",
     "output_type": "stream",
     "text": [
      "              precision    recall  f1-score   support\n",
      "\n",
      "           0       0.87      0.95      0.90      1115\n",
      "           1       0.82      0.62      0.71       437\n",
      "\n",
      "    accuracy                           0.86      1552\n",
      "   macro avg       0.84      0.79      0.81      1552\n",
      "weighted avg       0.85      0.86      0.85      1552\n",
      "\n"
     ]
    }
   ],
   "source": [
    "from sklearn.metrics import confusion_matrix\n",
    "import seaborn as sns\n",
    "\n",
    "# Generate confusion matrix\n",
    "ld_cm = confusion_matrix(y_test, y_pred)\n",
    "\n",
    "# Plot confusion matrix as a heatmap\n",
    "plt.figure(figsize=(8, 6))\n",
    "sns.heatmap(cm, annot=True, fmt='d', cmap='Greys')\n",
    "plt.xlabel('Predicted')\n",
    "plt.ylabel('Actual')\n",
    "plt.show()\n",
    "\n",
    "report = classification_report(y_test, y_pred)\n",
    "\n",
    "# Classification report\n",
    "print(report)"
   ]
  },
  {
   "cell_type": "code",
   "execution_count": 28,
   "id": "80cd5a62",
   "metadata": {},
   "outputs": [
    {
     "name": "stdout",
     "output_type": "stream",
     "text": [
      "True Negative: 1056\n",
      "False Positive: 59\n",
      "False Negative: 164\n",
      "True Positive: 273\n"
     ]
    }
   ],
   "source": [
    "TN = ld_cm[0][0]\n",
    "FP = ld_cm[0][1]\n",
    "FN = ld_cm[1][0]\n",
    "TP = ld_cm[1][1]\n",
    "\n",
    "print(\"True Negative:\", TN)\n",
    "print(\"False Positive:\", FP)\n",
    "print(\"False Negative:\", FN)\n",
    "print(\"True Positive:\", TP)"
   ]
  },
  {
   "cell_type": "code",
   "execution_count": 29,
   "id": "904a1b6e",
   "metadata": {},
   "outputs": [
    {
     "name": "stdout",
     "output_type": "stream",
     "text": [
      "1. Accuracy=  0.8563144329896907\n",
      "\n",
      "2. Error rate=  0.14368556701030927\n",
      "\n",
      "3. Sensitivity/TPR=  0.6247139588100686\n",
      "\n",
      "4. Specificity/TNR=  0.947085201793722\n",
      "\n",
      "5. FPR=  0.05291479820627798\n",
      "\n",
      "6. Miss rate/FNR=  0.37528604118993136\n",
      "\n",
      "7. Positive Prediction Value=  0.822289156626506\n",
      "\n",
      "8. Negative Predictive Value=  0.822289156626506\n",
      "\n",
      "9. Positive Likelihood=  11.806034984291985\n",
      "\n",
      "10. Negative Likelihood=  0.3962537272033839\n",
      "\n"
     ]
    }
   ],
   "source": [
    "Total = TN+TP+FP+FN\n",
    "Accuracy = (TP+TN)/(Total)\n",
    "print(\"1. Accuracy= \",Accuracy)\n",
    "print(\"\")\n",
    "ER = (FP+FN)/(Total)\n",
    "print(\"2. Error rate= \",ER)\n",
    "print(\"\")\n",
    "TPR = TP/(TP+FN)\n",
    "print(\"3. Sensitivity/TPR= \",TPR)\n",
    "print(\"\")\n",
    "TNR = TN/(FP+TN)\n",
    "print(\"4. Specificity/TNR= \",TNR)\n",
    "print(\"\")\n",
    "FPR = 1 - TNR\n",
    "print(\"5. FPR= \",FPR)\n",
    "print(\"\")\n",
    "FNR = 1 - TPR\n",
    "print(\"6. Miss rate/FNR= \",FNR)\n",
    "print(\"\")\n",
    "PPV = TP/(FP+TP)\n",
    "print(\"7. Positive Prediction Value= \",PPV)\n",
    "print(\"\")\n",
    "NPV = TN/(FN+TN)\n",
    "print(\"8. Negative Predictive Value= \",PPV)\n",
    "print(\"\")\n",
    "PL = TPR/(1-TNR)\n",
    "print(\"9. Positive Likelihood= \",PL)\n",
    "print(\"\")\n",
    "NL = FNR/TNR\n",
    "print(\"10. Negative Likelihood= \",NL)\n",
    "print(\"\")"
   ]
  },
  {
   "cell_type": "markdown",
   "id": "6efac521",
   "metadata": {},
   "source": [
    "# 5. Neural Networks"
   ]
  },
  {
   "cell_type": "code",
   "execution_count": 30,
   "id": "c7502cad",
   "metadata": {},
   "outputs": [
    {
     "name": "stderr",
     "output_type": "stream",
     "text": [
      "/Users/niladrisinha/opt/anaconda3/lib/python3.9/site-packages/sklearn/neural_network/_multilayer_perceptron.py:692: ConvergenceWarning: Stochastic Optimizer: Maximum iterations (200) reached and the optimization hasn't converged yet.\n",
      "  warnings.warn(\n"
     ]
    }
   ],
   "source": [
    "from sklearn.neural_network import MLPClassifier\n",
    "classifier = MLPClassifier()\n",
    "classifier.fit(X_train, y_train)\n",
    "predictions = classifier.predict(X_test)"
   ]
  },
  {
   "cell_type": "code",
   "execution_count": 31,
   "id": "fb7ff2fd",
   "metadata": {},
   "outputs": [
    {
     "data": {
      "text/plain": [
       "<AxesSubplot:>"
      ]
     },
     "execution_count": 31,
     "metadata": {},
     "output_type": "execute_result"
    },
    {
     "data": {
      "image/png": "[encoded data removed]",
      "text/plain": [
       "<Figure size 640x480 with 2 Axes>"
      ]
     },
     "metadata": {},
     "output_type": "display_data"
    }
   ],
   "source": [
    "from sklearn.metrics import confusion_matrix\n",
    "nn_cm = confusion_matrix(y_test,predictions)\n",
    "sns.heatmap(nn_cm,annot = True)"
   ]
  },
  {
   "cell_type": "code",
   "execution_count": 32,
   "id": "a08426ee",
   "metadata": {},
   "outputs": [
    {
     "name": "stdout",
     "output_type": "stream",
     "text": [
      "True Negative: 1045\n",
      "False Positive: 70\n",
      "False Negative: 88\n",
      "True Positive: 349\n"
     ]
    }
   ],
   "source": [
    "TN = nn_cm[0][0]\n",
    "FP = nn_cm[0][1]\n",
    "FN = nn_cm[1][0]\n",
    "TP = nn_cm[1][1]\n",
    "\n",
    "print(\"True Negative:\", TN)\n",
    "print(\"False Positive:\", FP)\n",
    "print(\"False Negative:\", FN)\n",
    "print(\"True Positive:\", TP)"
   ]
  },
  {
   "cell_type": "code",
   "execution_count": 33,
   "id": "006ba054",
   "metadata": {},
   "outputs": [
    {
     "name": "stdout",
     "output_type": "stream",
     "text": [
      "1. Accuracy=  0.8981958762886598\n",
      "\n",
      "2. Error rate=  0.1018041237113402\n",
      "\n",
      "3. Sensitivity/TPR=  0.7986270022883295\n",
      "\n",
      "4. Specificity/TNR=  0.9372197309417041\n",
      "\n",
      "5. FPR=  0.06278026905829592\n",
      "\n",
      "6. Miss rate/FNR=  0.2013729977116705\n",
      "\n",
      "7. Positive Prediction Value=  0.8329355608591885\n",
      "\n",
      "8. Negative Predictive Value=  0.8329355608591885\n",
      "\n",
      "9. Positive Likelihood=  12.720987250735542\n",
      "\n",
      "10. Negative Likelihood=  0.21486209803685416\n",
      "\n"
     ]
    }
   ],
   "source": [
    "Total = TN+TP+FP+FN\n",
    "Accuracy = (TP+TN)/(Total)\n",
    "print(\"1. Accuracy= \",Accuracy)\n",
    "print(\"\")\n",
    "ER = (FP+FN)/(Total)\n",
    "print(\"2. Error rate= \",ER)\n",
    "print(\"\")\n",
    "TPR = TP/(TP+FN)\n",
    "print(\"3. Sensitivity/TPR= \",TPR)\n",
    "print(\"\")\n",
    "TNR = TN/(FP+TN)\n",
    "print(\"4. Specificity/TNR= \",TNR)\n",
    "print(\"\")\n",
    "FPR = 1 - TNR\n",
    "print(\"5. FPR= \",FPR)\n",
    "print(\"\")\n",
    "FNR = 1 - TPR\n",
    "print(\"6. Miss rate/FNR= \",FNR)\n",
    "print(\"\")\n",
    "PPV = TP/(FP+TP)\n",
    "print(\"7. Positive Prediction Value= \",PPV)\n",
    "print(\"\")\n",
    "NPV = TN/(FN+TN)\n",
    "print(\"8. Negative Predictive Value= \",PPV)\n",
    "print(\"\")\n",
    "PL = TPR/(1-TNR)\n",
    "print(\"9. Positive Likelihood= \",PL)\n",
    "print(\"\")\n",
    "NL = FNR/TNR\n",
    "print(\"10. Negative Likelihood= \",NL)\n",
    "print(\"\")"
   ]
  }
 ],
 "metadata": {
  "kernelspec": {
   "display_name": "Python 3 (ipykernel)",
   "language": "python",
   "name": "python3"
  },
  "language_info": {
   "codemirror_mode": {
    "name": "ipython",
    "version": 3
   },
   "file_extension": ".py",
   "mimetype": "text/x-python",
   "name": "python",
   "nbconvert_exporter": "python",
   "pygments_lexer": "ipython3",
   "version": "3.9.13"
  }
 },
 "nbformat": 4,
 "nbformat_minor": 5
}
