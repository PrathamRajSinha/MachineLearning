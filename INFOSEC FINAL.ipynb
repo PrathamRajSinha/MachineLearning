{
 "cells": [
  {
   "cell_type": "markdown",
   "id": "9f6c3907",
   "metadata": {},
   "source": [
    "# Pratham Raj Sinha 21BIT0092"
   ]
  },
  {
   "cell_type": "markdown",
   "id": "6d904938",
   "metadata": {},
   "source": [
    "# Email Spam Detection and Prediction"
   ]
  },
  {
   "cell_type": "markdown",
   "id": "522d3264",
   "metadata": {},
   "source": [
    "# About the dataset:"
   ]
  },
  {
   "cell_type": "markdown",
   "id": "0c277fdc",
   "metadata": {},
   "source": [
    "Email Spam Classification Dataset\n",
    "The csv file contains 5172 rows, each row for each email. There are 3002 columns. \n",
    "The first column indicates Email name. The name has been set with numbers and not recipients\n",
    "name to protect privacy. The last column has the labels for prediction :\n",
    "    1 for spam, \n",
    "    0 for not spam. \n",
    "The remaining 3000 columns are the 3000 most common words in all the emails"
   ]
  },
  {
   "cell_type": "markdown",
   "id": "f7ec1408",
   "metadata": {},
   "source": [
    "# Dataset URL"
   ]
  },
  {
   "cell_type": "markdown",
   "id": "6a783ec4",
   "metadata": {},
   "source": [
    "https://www.kaggle.com/datasets/balaka18/email-spam-classification-dataset-csv"
   ]
  },
  {
   "cell_type": "markdown",
   "id": "99181639",
   "metadata": {},
   "source": [
    "# Importing libraries"
   ]
  },
  {
   "cell_type": "code",
   "execution_count": 1,
   "id": "432064a9",
   "metadata": {
    "scrolled": true
   },
   "outputs": [],
   "source": [
    "# Load libraries\n",
    "import pandas as pd\n",
    "from sklearn.model_selection import train_test_split\n",
    "from pandas.plotting import scatter_matrix\n",
    "import matplotlib.pyplot as plt\n",
    "from sklearn import model_selection\n",
    "from sklearn import metrics\n",
    "from sklearn.metrics import classification_report\n",
    "from sklearn.metrics import confusion_matrix\n",
    "from sklearn.metrics import accuracy_score\n",
    "from sklearn.ensemble import RandomForestClassifier\n",
    "from sklearn.tree import DecisionTreeClassifier\n",
    "import matplotlib.pyplot as plt\n",
    "import seaborn as sns"
   ]
  },
  {
   "cell_type": "markdown",
   "id": "07d536d9",
   "metadata": {},
   "source": [
    "# Data Collection"
   ]
  },
  {
   "cell_type": "code",
   "execution_count": 2,
   "id": "ea5b04c5",
   "metadata": {
    "scrolled": true
   },
   "outputs": [
    {
     "data": {
      "text/html": [
       "<div>\n",
       "<style scoped>\n",
       "    .dataframe tbody tr th:only-of-type {\n",
       "        vertical-align: middle;\n",
       "    }\n",
       "\n",
       "    .dataframe tbody tr th {\n",
       "        vertical-align: top;\n",
       "    }\n",
       "\n",
       "    .dataframe thead th {\n",
       "        text-align: right;\n",
       "    }\n",
       "</style>\n",
       "<table border=\"1\" class=\"dataframe\">\n",
       "  <thead>\n",
       "    <tr style=\"text-align: right;\">\n",
       "      <th></th>\n",
       "      <th>the</th>\n",
       "      <th>to</th>\n",
       "      <th>ect</th>\n",
       "      <th>and</th>\n",
       "      <th>for</th>\n",
       "      <th>of</th>\n",
       "      <th>a</th>\n",
       "      <th>you</th>\n",
       "      <th>hou</th>\n",
       "      <th>in</th>\n",
       "      <th>...</th>\n",
       "      <th>will</th>\n",
       "      <th>have</th>\n",
       "      <th>with</th>\n",
       "      <th>your</th>\n",
       "      <th>at</th>\n",
       "      <th>we</th>\n",
       "      <th>s</th>\n",
       "      <th>are</th>\n",
       "      <th>it</th>\n",
       "      <th>Prediction</th>\n",
       "    </tr>\n",
       "  </thead>\n",
       "  <tbody>\n",
       "    <tr>\n",
       "      <th>0</th>\n",
       "      <td>0</td>\n",
       "      <td>0</td>\n",
       "      <td>1</td>\n",
       "      <td>0</td>\n",
       "      <td>0</td>\n",
       "      <td>0</td>\n",
       "      <td>2</td>\n",
       "      <td>0</td>\n",
       "      <td>0</td>\n",
       "      <td>0</td>\n",
       "      <td>...</td>\n",
       "      <td>0</td>\n",
       "      <td>0</td>\n",
       "      <td>0</td>\n",
       "      <td>0</td>\n",
       "      <td>0</td>\n",
       "      <td>0</td>\n",
       "      <td>3</td>\n",
       "      <td>0</td>\n",
       "      <td>0</td>\n",
       "      <td>0</td>\n",
       "    </tr>\n",
       "    <tr>\n",
       "      <th>1</th>\n",
       "      <td>8</td>\n",
       "      <td>13</td>\n",
       "      <td>24</td>\n",
       "      <td>6</td>\n",
       "      <td>6</td>\n",
       "      <td>2</td>\n",
       "      <td>102</td>\n",
       "      <td>1</td>\n",
       "      <td>27</td>\n",
       "      <td>18</td>\n",
       "      <td>...</td>\n",
       "      <td>0</td>\n",
       "      <td>0</td>\n",
       "      <td>2</td>\n",
       "      <td>0</td>\n",
       "      <td>12</td>\n",
       "      <td>9</td>\n",
       "      <td>95</td>\n",
       "      <td>4</td>\n",
       "      <td>3</td>\n",
       "      <td>0</td>\n",
       "    </tr>\n",
       "    <tr>\n",
       "      <th>2</th>\n",
       "      <td>0</td>\n",
       "      <td>0</td>\n",
       "      <td>1</td>\n",
       "      <td>0</td>\n",
       "      <td>0</td>\n",
       "      <td>0</td>\n",
       "      <td>8</td>\n",
       "      <td>0</td>\n",
       "      <td>0</td>\n",
       "      <td>4</td>\n",
       "      <td>...</td>\n",
       "      <td>0</td>\n",
       "      <td>0</td>\n",
       "      <td>0</td>\n",
       "      <td>0</td>\n",
       "      <td>2</td>\n",
       "      <td>0</td>\n",
       "      <td>2</td>\n",
       "      <td>0</td>\n",
       "      <td>0</td>\n",
       "      <td>0</td>\n",
       "    </tr>\n",
       "    <tr>\n",
       "      <th>3</th>\n",
       "      <td>0</td>\n",
       "      <td>5</td>\n",
       "      <td>22</td>\n",
       "      <td>0</td>\n",
       "      <td>5</td>\n",
       "      <td>1</td>\n",
       "      <td>51</td>\n",
       "      <td>2</td>\n",
       "      <td>10</td>\n",
       "      <td>1</td>\n",
       "      <td>...</td>\n",
       "      <td>0</td>\n",
       "      <td>1</td>\n",
       "      <td>1</td>\n",
       "      <td>0</td>\n",
       "      <td>2</td>\n",
       "      <td>1</td>\n",
       "      <td>36</td>\n",
       "      <td>3</td>\n",
       "      <td>1</td>\n",
       "      <td>0</td>\n",
       "    </tr>\n",
       "    <tr>\n",
       "      <th>4</th>\n",
       "      <td>7</td>\n",
       "      <td>6</td>\n",
       "      <td>17</td>\n",
       "      <td>1</td>\n",
       "      <td>5</td>\n",
       "      <td>2</td>\n",
       "      <td>57</td>\n",
       "      <td>0</td>\n",
       "      <td>9</td>\n",
       "      <td>3</td>\n",
       "      <td>...</td>\n",
       "      <td>0</td>\n",
       "      <td>2</td>\n",
       "      <td>0</td>\n",
       "      <td>0</td>\n",
       "      <td>7</td>\n",
       "      <td>0</td>\n",
       "      <td>19</td>\n",
       "      <td>2</td>\n",
       "      <td>4</td>\n",
       "      <td>0</td>\n",
       "    </tr>\n",
       "  </tbody>\n",
       "</table>\n",
       "<p>5 rows × 27 columns</p>\n",
       "</div>"
      ],
      "text/plain": [
       "   the  to  ect  and  for  of    a  you  hou  in  ...  will  have  with  your  \\\n",
       "0    0   0    1    0    0   0    2    0    0   0  ...     0     0     0     0   \n",
       "1    8  13   24    6    6   2  102    1   27  18  ...     0     0     2     0   \n",
       "2    0   0    1    0    0   0    8    0    0   4  ...     0     0     0     0   \n",
       "3    0   5   22    0    5   1   51    2   10   1  ...     0     1     1     0   \n",
       "4    7   6   17    1    5   2   57    0    9   3  ...     0     2     0     0   \n",
       "\n",
       "   at  we   s  are  it  Prediction  \n",
       "0   0   0   3    0   0           0  \n",
       "1  12   9  95    4   3           0  \n",
       "2   2   0   2    0   0           0  \n",
       "3   2   1  36    3   1           0  \n",
       "4   7   0  19    2   4           0  \n",
       "\n",
       "[5 rows x 27 columns]"
      ]
     },
     "execution_count": 2,
     "metadata": {},
     "output_type": "execute_result"
    }
   ],
   "source": [
    "spam = pd.read_csv('/Users/niladrisinha/Infosec da/emails.csv')\n",
    "spam.describe()\n",
    "spam.head()"
   ]
  },
  {
   "cell_type": "markdown",
   "id": "ea16c596",
   "metadata": {},
   "source": [
    "# Data description"
   ]
  },
  {
   "cell_type": "code",
   "execution_count": 3,
   "id": "7c549670",
   "metadata": {},
   "outputs": [
    {
     "data": {
      "text/plain": [
       "(5172, 27)"
      ]
     },
     "execution_count": 3,
     "metadata": {},
     "output_type": "execute_result"
    }
   ],
   "source": [
    "spam.shape"
   ]
  },
  {
   "cell_type": "code",
   "execution_count": 4,
   "id": "74a32c09",
   "metadata": {},
   "outputs": [
    {
     "name": "stdout",
     "output_type": "stream",
     "text": [
      "Accuracy: 0.8969072164948454\n"
     ]
    }
   ],
   "source": [
    "# Split-out validation dataset\n",
    "array = spam.values\n",
    "X = array[:,0:26]\n",
    "y = array[:,26]\n",
    "\n",
    "feature_cols = [\"the\",\"to\",\"ect\",\"and\",\"for\",\"of\",\"a\",\"you\",\"hou\",\"in\",\"on\",\"is\",\"this\",\"enron\",\"i\",\"be\",\"that\",\"will\",\"have\",\"with\",\"your\",\"at\",\"we\",\"s\",\"are\",\"it\"]\n",
    "\n",
    "\n",
    "# Split dataset into training set and test set\n",
    "X_train, X_test, y_train, y_test = train_test_split(X, y, test_size=0.3) # 70% training and 30% test\n",
    "\n",
    "#Create a Gaussian Classifier\n",
    "clf=RandomForestClassifier(n_estimators=500)\n",
    "\n",
    "#Train the model using the training sets y_pred=clf.predict(X_test)\n",
    "clf.fit(X_train,y_train)\n",
    "\n",
    "\n",
    "y_pred=clf.predict(X_test)\n",
    "# Model Accuracy, how often is the classifier correct?\n",
    "print(\"Accuracy:\",metrics.accuracy_score(y_test, y_pred))\n",
    "\n"
   ]
  },
  {
   "cell_type": "code",
   "execution_count": 5,
   "id": "7a3eca12",
   "metadata": {},
   "outputs": [
    {
     "data": {
      "image/png": "[encoded data removed]",
      "text/plain": [
       "<Figure size 640x480 with 1 Axes>"
      ]
     },
     "metadata": {},
     "output_type": "display_data"
    }
   ],
   "source": [
    "RandomForestClassifier()\n",
    "feature_imp = pd.Series(clf.feature_importances_,index=feature_cols).sort_values(ascending=False)\n",
    "feature_imp\n",
    "%matplotlib inline\n",
    "# Creating a bar plot\n",
    "plt.figure()\n",
    "sns.barplot(x=feature_imp, y=feature_imp.index)\n",
    "# Add labels to your graph\n",
    "plt.xlabel('Word Importance Score')\n",
    "plt.ylabel('Words')\n",
    "plt.title(\"Most common words used in spam emails\")\n",
    "plt.show()"
   ]
  },
  {
   "cell_type": "code",
   "execution_count": 6,
   "id": "8c4e9994",
   "metadata": {},
   "outputs": [
    {
     "data": {
      "image/png": "[encoded data removed]",
      "text/plain": [
       "<Figure size 800x600 with 2 Axes>"
      ]
     },
     "metadata": {},
     "output_type": "display_data"
    },
    {
     "name": "stdout",
     "output_type": "stream",
     "text": [
      "              precision    recall  f1-score   support\n",
      "\n",
      "           0       0.93      0.93      0.93      1100\n",
      "           1       0.83      0.82      0.82       452\n",
      "\n",
      "    accuracy                           0.90      1552\n",
      "   macro avg       0.88      0.87      0.87      1552\n",
      "weighted avg       0.90      0.90      0.90      1552\n",
      "\n"
     ]
    }
   ],
   "source": [
    "from sklearn.metrics import confusion_matrix\n",
    "import seaborn as sns\n",
    "\n",
    "# Generate confusion matrix\n",
    "cm = confusion_matrix(y_test, y_pred)\n",
    "\n",
    "# Plot confusion matrix as a heatmap\n",
    "plt.figure(figsize=(8, 6))\n",
    "sns.heatmap(cm, annot=True, fmt='d', cmap='Greens')\n",
    "plt.xlabel('Predicted')\n",
    "plt.ylabel('Actual')\n",
    "plt.show()\n",
    "\n",
    "report = classification_report(y_test, y_pred)\n",
    "\n",
    "# Classification report\n",
    "print(report)"
   ]
  },
  {
   "cell_type": "code",
   "execution_count": 7,
   "id": "9dec7d1b",
   "metadata": {},
   "outputs": [
    {
     "name": "stdout",
     "output_type": "stream",
     "text": [
      "True Negative: 1022\n",
      "False Positive: 78\n",
      "False Negative: 82\n",
      "True Positive: 370\n",
      "Accuracy=  0.8969072164948454\n",
      "\n",
      "Error rate=  0.10309278350515463\n",
      "\n",
      "Sensitivity/TPR=  0.8185840707964602\n",
      "\n",
      "Specificity/TNR=  0.9290909090909091\n",
      "\n",
      "FPR=  0.07090909090909092\n",
      "\n",
      "Miss rate/FNR=  0.18141592920353977\n",
      "\n"
     ]
    }
   ],
   "source": [
    "TN = cm[0][0]\n",
    "FP = cm[0][1]\n",
    "FN = cm[1][0]\n",
    "TP = cm[1][1]\n",
    "\n",
    "print(\"True Negative:\", TN)\n",
    "print(\"False Positive:\", FP)\n",
    "print(\"False Negative:\", FN)\n",
    "print(\"True Positive:\", TP)\n",
    "\n",
    "Total = TN+TP+FP+FN\n",
    "Accuracy = (TP+TN)/(Total)\n",
    "print(\"Accuracy= \",Accuracy)\n",
    "print(\"\")\n",
    "ER = (FP+FN)/(Total)\n",
    "print(\"Error rate= \",ER)\n",
    "print(\"\")\n",
    "TPR = TP/(TP+FN)\n",
    "print(\"Sensitivity/TPR= \",TPR)\n",
    "print(\"\")\n",
    "TNR = TN/(FP+TN)\n",
    "print(\"Specificity/TNR= \",TNR)\n",
    "print(\"\")\n",
    "FPR = 1 - TNR\n",
    "print(\"FPR= \",FPR)\n",
    "print(\"\")\n",
    "FNR = 1 - TPR\n",
    "print(\"Miss rate/FNR= \",FNR)\n",
    "print(\"\")\n"
   ]
  },
  {
   "cell_type": "code",
   "execution_count": 8,
   "id": "e3fd5d62",
   "metadata": {},
   "outputs": [
    {
     "name": "stdout",
     "output_type": "stream",
     "text": [
      "Calculated accuracy and predicted accuracy are equal.\n"
     ]
    }
   ],
   "source": [
    "if metrics.accuracy_score(y_test, y_pred)== Accuracy:\n",
    "    print(\"Calculated accuracy and predicted accuracy are equal.\")"
   ]
  },
  {
   "cell_type": "code",
   "execution_count": null,
   "id": "51b725ee",
   "metadata": {},
   "outputs": [],
   "source": []
  }
 ],
 "metadata": {
  "kernelspec": {
   "display_name": "Python 3 (ipykernel)",
   "language": "python",
   "name": "python3"
  },
  "language_info": {
   "codemirror_mode": {
    "name": "ipython",
    "version": 3
   },
   "file_extension": ".py",
   "mimetype": "text/x-python",
   "name": "python",
   "nbconvert_exporter": "python",
   "pygments_lexer": "ipython3",
   "version": "3.9.13"
  }
 },
 "nbformat": 4,
 "nbformat_minor": 5
}
